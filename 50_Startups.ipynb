{
  "nbformat": 4,
  "nbformat_minor": 0,
  "metadata": {
    "colab": {
      "provenance": [],
      "authorship_tag": "ABX9TyNkxcDscNj5KnPX+i1FB2bi",
      "include_colab_link": true
    },
    "kernelspec": {
      "name": "python3",
      "display_name": "Python 3"
    },
    "language_info": {
      "name": "python"
    }
  },
  "cells": [
    {
      "cell_type": "markdown",
      "metadata": {
        "id": "view-in-github",
        "colab_type": "text"
      },
      "source": [
        "<a href=\"https://colab.research.google.com/github/MEnisSen/ElasticNet-50-Startups/blob/main/50_Startups.ipynb\" target=\"_parent\"><img src=\"https://colab.research.google.com/assets/colab-badge.svg\" alt=\"Open In Colab\"/></a>"
      ]
    },
    {
      "cell_type": "markdown",
      "source": [
        "### **Muhammed Enis Şen**"
      ],
      "metadata": {
        "id": "x2-D52pauETw"
      }
    },
    {
      "cell_type": "markdown",
      "source": [
        "# **Import Data from Kaggle**"
      ],
      "metadata": {
        "id": "dAx17diA2M2m"
      }
    },
    {
      "cell_type": "code",
      "execution_count": null,
      "metadata": {
        "id": "g1eZ6Zby1EUj"
      },
      "outputs": [],
      "source": [
        "! pip install -q kaggle"
      ]
    },
    {
      "cell_type": "code",
      "source": [
        "from google.colab import files\n",
        "files.upload()"
      ],
      "metadata": {
        "id": "u_9vn8Tx1bRG"
      },
      "execution_count": null,
      "outputs": []
    },
    {
      "cell_type": "code",
      "source": [
        "! mkdir ~/.kaggle\n",
        "! cp kaggle.json ~/.kaggle/\n",
        "! chmod 600 ~/.kaggle/kaggle.json\n",
        "! kaggle datasets list"
      ],
      "metadata": {
        "colab": {
          "base_uri": "https://localhost:8080/"
        },
        "id": "8Mf1Nq8r1g6C",
        "outputId": "8b100a9c-5c92-4999-9a0c-ac1e43fb40be"
      },
      "execution_count": null,
      "outputs": [
        {
          "output_type": "stream",
          "name": "stdout",
          "text": [
            "mkdir: cannot create directory ‘/root/.kaggle’: File exists\n",
            "ref                                                            title                                                size  lastUpdated          downloadCount  voteCount  usabilityRating  \n",
            "-------------------------------------------------------------  --------------------------------------------------  -----  -------------------  -------------  ---------  ---------------  \n",
            "meirnizri/covid19-dataset                                      COVID-19 Dataset                                      5MB  2022-11-13 15:47:17           8400        252  1.0              \n",
            "mattop/alcohol-consumption-per-capita-2016                     Alcohol Consumption Per Capita 2016                   4KB  2022-12-09 00:03:11            726         27  1.0              \n",
            "thedevastator/jobs-dataset-from-glassdoor                      Salary Prediction                                     3MB  2022-11-16 13:52:31           5370        117  1.0              \n",
            "swaptr/fifa-world-cup-2022-statistics                          FIFA World Cup 2022 Team Data                        15KB  2022-12-11 22:08:40           1671         45  0.9117647        \n",
            "elmoallistair/emmision-of-air-pollutants                       Emmision of Air Pollutants                            1MB  2022-12-08 07:25:01            608         23  1.0              \n",
            "whenamancodes/predict-diabities                                Predict Diabetes                                      9KB  2022-11-09 12:18:49           5535         99  1.0              \n",
            "mvieira101/global-cost-of-living                               Global Cost of Living                                 1MB  2022-12-03 16:37:53           2060         49  0.9705882        \n",
            "die9origephit/fifa-world-cup-2022-complete-dataset             Fifa World Cup 2022: Complete Dataset                 7KB  2022-12-11 16:54:08           1006         51  0.9411765        \n",
            "tirendazacademy/fifa-world-cup-2022-tweets                     FIFA World Cup 2022 Tweets                            1MB  2022-12-08 19:43:37            516         25  1.0              \n",
            "thedevastator/australian-housing-data-1000-properties-sampled  Australian Housing Prices                            51KB  2022-11-28 13:19:40            900         23  1.0              \n",
            "laibaanwer/superstore-sales-dataset                            SuperStore Sales Dataset                              2MB  2022-12-07 08:53:32            614         23  1.0              \n",
            "madhurpant/world-deaths-and-causes-1990-2019                   World Deaths and Causes (1990 - 2019)               442KB  2022-11-29 07:09:27           1584         37  1.0              \n",
            "akshaydattatraykhare/data-for-admission-in-the-university      Data for Admission in the University                  4KB  2022-10-27 11:05:45           8846        190  1.0              \n",
            "thedevastator/cancer-patients-and-air-pollution-a-new-link      Lung Cancer Prediction                               7KB  2022-11-14 13:40:40           3353         73  1.0              \n",
            "catherinerasgaitis/mxmh-survey-results                         Music & Mental Health Survey Results                 22KB  2022-11-21 10:03:12           2073         44  1.0              \n",
            "tusharaggarwal27/2022-dec-world-populations                    World Population By Countries ((1970)) to ((2050))   19KB  2022-12-08 02:23:40            762         34  1.0              \n",
            "williecosta/economic-guide-to-college-majors                   Economic Guide to College Majors (data from 538)     11KB  2022-12-01 00:03:23            482         24  1.0              \n",
            "theakhilb/layoffs-data-2022                                    Layoffs Dataset 2022                                104KB  2022-12-12 05:40:34           1051         30  1.0              \n",
            "prosperchuks/health-dataset                                    Diabetes, Hypertension and Stroke Prediction        750KB  2022-12-13 13:15:19           2435         55  1.0              \n",
            "dbarteaux99/stable-diffusion-1-5                               Stable Diffusion 1.5 (normal and EMAonly) with vae    7GB  2022-10-23 15:40:29            204         20  0.9375           \n"
          ]
        }
      ]
    },
    {
      "cell_type": "code",
      "source": [
        "! kaggle datasets download -d karthickveerakumar/startup-logistic-regression"
      ],
      "metadata": {
        "colab": {
          "base_uri": "https://localhost:8080/"
        },
        "id": "NAVC_8ie149N",
        "outputId": "91a0bb03-21e0-446e-d22b-9a38fea34f19"
      },
      "execution_count": null,
      "outputs": [
        {
          "output_type": "stream",
          "name": "stdout",
          "text": [
            "startup-logistic-regression.zip: Skipping, found more recently modified local copy (use --force to force download)\n"
          ]
        }
      ]
    },
    {
      "cell_type": "code",
      "source": [
        "! unzip startup-logistic-regression.zip"
      ],
      "metadata": {
        "colab": {
          "base_uri": "https://localhost:8080/"
        },
        "id": "efgVULrd2LIF",
        "outputId": "e007f499-7276-4a08-820b-899dffc4ca94"
      },
      "execution_count": null,
      "outputs": [
        {
          "output_type": "stream",
          "name": "stdout",
          "text": [
            "Archive:  startup-logistic-regression.zip\n",
            "replace 50_Startups.csv? [y]es, [n]o, [A]ll, [N]one, [r]ename: "
          ]
        }
      ]
    },
    {
      "cell_type": "code",
      "source": [
        "import pandas as pd\n",
        "import numpy as np\n",
        "import matplotlib.pyplot as plt\n",
        "import seaborn as sn\n",
        "from sklearn.utils import shuffle"
      ],
      "metadata": {
        "id": "QNnMwADp2YKu"
      },
      "execution_count": null,
      "outputs": []
    },
    {
      "cell_type": "code",
      "source": [
        "df = pd.read_csv('50_Startups.csv')"
      ],
      "metadata": {
        "id": "zWZURgyM2nW1"
      },
      "execution_count": null,
      "outputs": []
    },
    {
      "cell_type": "code",
      "source": [
        "df.head()"
      ],
      "metadata": {
        "colab": {
          "base_uri": "https://localhost:8080/",
          "height": 206
        },
        "id": "szHE0ctb2qOE",
        "outputId": "14e392b7-0706-4391-90ec-7eb8292b0d52"
      },
      "execution_count": null,
      "outputs": [
        {
          "output_type": "execute_result",
          "data": {
            "text/plain": [
              "   R&D Spend  Administration  Marketing Spend       State     Profit\n",
              "0  165349.20       136897.80        471784.10    New York  192261.83\n",
              "1  162597.70       151377.59        443898.53  California  191792.06\n",
              "2  153441.51       101145.55        407934.54     Florida  191050.39\n",
              "3  144372.41       118671.85        383199.62    New York  182901.99\n",
              "4  142107.34        91391.77        366168.42     Florida  166187.94"
            ],
            "text/html": [
              "\n",
              "  <div id=\"df-348d1341-8de7-4e06-9bc0-3bb053ced1cc\">\n",
              "    <div class=\"colab-df-container\">\n",
              "      <div>\n",
              "<style scoped>\n",
              "    .dataframe tbody tr th:only-of-type {\n",
              "        vertical-align: middle;\n",
              "    }\n",
              "\n",
              "    .dataframe tbody tr th {\n",
              "        vertical-align: top;\n",
              "    }\n",
              "\n",
              "    .dataframe thead th {\n",
              "        text-align: right;\n",
              "    }\n",
              "</style>\n",
              "<table border=\"1\" class=\"dataframe\">\n",
              "  <thead>\n",
              "    <tr style=\"text-align: right;\">\n",
              "      <th></th>\n",
              "      <th>R&amp;D Spend</th>\n",
              "      <th>Administration</th>\n",
              "      <th>Marketing Spend</th>\n",
              "      <th>State</th>\n",
              "      <th>Profit</th>\n",
              "    </tr>\n",
              "  </thead>\n",
              "  <tbody>\n",
              "    <tr>\n",
              "      <th>0</th>\n",
              "      <td>165349.20</td>\n",
              "      <td>136897.80</td>\n",
              "      <td>471784.10</td>\n",
              "      <td>New York</td>\n",
              "      <td>192261.83</td>\n",
              "    </tr>\n",
              "    <tr>\n",
              "      <th>1</th>\n",
              "      <td>162597.70</td>\n",
              "      <td>151377.59</td>\n",
              "      <td>443898.53</td>\n",
              "      <td>California</td>\n",
              "      <td>191792.06</td>\n",
              "    </tr>\n",
              "    <tr>\n",
              "      <th>2</th>\n",
              "      <td>153441.51</td>\n",
              "      <td>101145.55</td>\n",
              "      <td>407934.54</td>\n",
              "      <td>Florida</td>\n",
              "      <td>191050.39</td>\n",
              "    </tr>\n",
              "    <tr>\n",
              "      <th>3</th>\n",
              "      <td>144372.41</td>\n",
              "      <td>118671.85</td>\n",
              "      <td>383199.62</td>\n",
              "      <td>New York</td>\n",
              "      <td>182901.99</td>\n",
              "    </tr>\n",
              "    <tr>\n",
              "      <th>4</th>\n",
              "      <td>142107.34</td>\n",
              "      <td>91391.77</td>\n",
              "      <td>366168.42</td>\n",
              "      <td>Florida</td>\n",
              "      <td>166187.94</td>\n",
              "    </tr>\n",
              "  </tbody>\n",
              "</table>\n",
              "</div>\n",
              "      <button class=\"colab-df-convert\" onclick=\"convertToInteractive('df-348d1341-8de7-4e06-9bc0-3bb053ced1cc')\"\n",
              "              title=\"Convert this dataframe to an interactive table.\"\n",
              "              style=\"display:none;\">\n",
              "        \n",
              "  <svg xmlns=\"http://www.w3.org/2000/svg\" height=\"24px\"viewBox=\"0 0 24 24\"\n",
              "       width=\"24px\">\n",
              "    <path d=\"M0 0h24v24H0V0z\" fill=\"none\"/>\n",
              "    <path d=\"M18.56 5.44l.94 2.06.94-2.06 2.06-.94-2.06-.94-.94-2.06-.94 2.06-2.06.94zm-11 1L8.5 8.5l.94-2.06 2.06-.94-2.06-.94L8.5 2.5l-.94 2.06-2.06.94zm10 10l.94 2.06.94-2.06 2.06-.94-2.06-.94-.94-2.06-.94 2.06-2.06.94z\"/><path d=\"M17.41 7.96l-1.37-1.37c-.4-.4-.92-.59-1.43-.59-.52 0-1.04.2-1.43.59L10.3 9.45l-7.72 7.72c-.78.78-.78 2.05 0 2.83L4 21.41c.39.39.9.59 1.41.59.51 0 1.02-.2 1.41-.59l7.78-7.78 2.81-2.81c.8-.78.8-2.07 0-2.86zM5.41 20L4 18.59l7.72-7.72 1.47 1.35L5.41 20z\"/>\n",
              "  </svg>\n",
              "      </button>\n",
              "      \n",
              "  <style>\n",
              "    .colab-df-container {\n",
              "      display:flex;\n",
              "      flex-wrap:wrap;\n",
              "      gap: 12px;\n",
              "    }\n",
              "\n",
              "    .colab-df-convert {\n",
              "      background-color: #E8F0FE;\n",
              "      border: none;\n",
              "      border-radius: 50%;\n",
              "      cursor: pointer;\n",
              "      display: none;\n",
              "      fill: #1967D2;\n",
              "      height: 32px;\n",
              "      padding: 0 0 0 0;\n",
              "      width: 32px;\n",
              "    }\n",
              "\n",
              "    .colab-df-convert:hover {\n",
              "      background-color: #E2EBFA;\n",
              "      box-shadow: 0px 1px 2px rgba(60, 64, 67, 0.3), 0px 1px 3px 1px rgba(60, 64, 67, 0.15);\n",
              "      fill: #174EA6;\n",
              "    }\n",
              "\n",
              "    [theme=dark] .colab-df-convert {\n",
              "      background-color: #3B4455;\n",
              "      fill: #D2E3FC;\n",
              "    }\n",
              "\n",
              "    [theme=dark] .colab-df-convert:hover {\n",
              "      background-color: #434B5C;\n",
              "      box-shadow: 0px 1px 3px 1px rgba(0, 0, 0, 0.15);\n",
              "      filter: drop-shadow(0px 1px 2px rgba(0, 0, 0, 0.3));\n",
              "      fill: #FFFFFF;\n",
              "    }\n",
              "  </style>\n",
              "\n",
              "      <script>\n",
              "        const buttonEl =\n",
              "          document.querySelector('#df-348d1341-8de7-4e06-9bc0-3bb053ced1cc button.colab-df-convert');\n",
              "        buttonEl.style.display =\n",
              "          google.colab.kernel.accessAllowed ? 'block' : 'none';\n",
              "\n",
              "        async function convertToInteractive(key) {\n",
              "          const element = document.querySelector('#df-348d1341-8de7-4e06-9bc0-3bb053ced1cc');\n",
              "          const dataTable =\n",
              "            await google.colab.kernel.invokeFunction('convertToInteractive',\n",
              "                                                     [key], {});\n",
              "          if (!dataTable) return;\n",
              "\n",
              "          const docLinkHtml = 'Like what you see? Visit the ' +\n",
              "            '<a target=\"_blank\" href=https://colab.research.google.com/notebooks/data_table.ipynb>data table notebook</a>'\n",
              "            + ' to learn more about interactive tables.';\n",
              "          element.innerHTML = '';\n",
              "          dataTable['output_type'] = 'display_data';\n",
              "          await google.colab.output.renderOutput(dataTable, element);\n",
              "          const docLink = document.createElement('div');\n",
              "          docLink.innerHTML = docLinkHtml;\n",
              "          element.appendChild(docLink);\n",
              "        }\n",
              "      </script>\n",
              "    </div>\n",
              "  </div>\n",
              "  "
            ]
          },
          "metadata": {},
          "execution_count": 8
        }
      ]
    },
    {
      "cell_type": "code",
      "source": [
        "df = df.drop('State', axis='columns')\n",
        "df = shuffle(df, random_state=1)"
      ],
      "metadata": {
        "id": "ZsTIz57y2rMN"
      },
      "execution_count": null,
      "outputs": []
    },
    {
      "cell_type": "code",
      "source": [
        "data = df.to_numpy()\n",
        "features = data[:,:3]\n",
        "labels = data[:,3].reshape(-1,1)\n",
        "\n",
        "x_train = features[:30]\n",
        "x_test = features[30:]\n",
        "y_train = labels[:30]\n",
        "y_test = labels[30:]"
      ],
      "metadata": {
        "id": "HorlDXv929J1"
      },
      "execution_count": null,
      "outputs": []
    },
    {
      "cell_type": "markdown",
      "source": [
        "# **Elastic-Net Regression**"
      ],
      "metadata": {
        "id": "4SqCRcEg343f"
      }
    },
    {
      "cell_type": "code",
      "source": [
        "def eNet(A, b, x, l1, l2):\n",
        "  cost = 0.5 * np.linalg.norm(A.dot(x) - b, ord=2) ** 2 + l1 * np.linalg.norm(x, ord=1) + l2 / 2 * np.linalg.norm(x, ord=2) ** 2\n",
        "  return cost\n",
        "\n",
        "def eNet_grad(A, b, x, l1, l2):\n",
        "  grad = A.T.dot(A.dot(x) - b) + l1 * np.sign(x) + 2 * l2 * x\n",
        "  return grad\n",
        "\n",
        "def train_fnc(x_train, y_train, w, l1, l2, max_iter):\n",
        "  for _ in range(max_iter):\n",
        "    w -= learning_rate * eNet_grad(x_train, y_train, w, l1, l2)\n",
        "  return w\n",
        "\n",
        "def MSE(A, b, x):\n",
        "  mse = np.mean((np.dot(A, x) - b) ** 2)\n",
        "  return mse"
      ],
      "metadata": {
        "id": "tQP7vW3Rc2b2"
      },
      "execution_count": null,
      "outputs": []
    },
    {
      "cell_type": "code",
      "source": [
        "learning_rate = 0.1\n",
        "l1s = [10**(-i) for i in range(1,6)]\n",
        "l2s = [10**(-i) for i in range(1,6)]\n",
        "mse_results = []\n",
        "max_iter = 10\n",
        "kfold_size = 5"
      ],
      "metadata": {
        "id": "_TWyCIfFZ8Ql"
      },
      "execution_count": null,
      "outputs": []
    },
    {
      "cell_type": "code",
      "source": [
        "train_data = np.concatenate((features[:30], labels[:30]), axis=1)\n",
        "#train_data = np.random.shuffle(train_data)\n",
        "number_of_train_samples = 30\n",
        "\n",
        "for l1 in l1s:\n",
        "  for l2 in l2s:\n",
        "    mse_sub = []\n",
        "\n",
        "    for i in range(kfold_size):\n",
        "      w = np.zeros((features.shape[1],1))\n",
        "      #w = np.random.rand(x_train.shape[1],1)\n",
        "\n",
        "      start_ind = int(i * number_of_train_samples / kfold_size)\n",
        "      stop_ind = int((i+1) * number_of_train_samples / kfold_size)\n",
        "\n",
        "      train_data_temp = np.concatenate((train_data[:start_ind], train_data[stop_ind:]), axis=0)\n",
        "      val_data_temp = train_data[start_ind:stop_ind]\n",
        "\n",
        "      x_train = train_data_temp[:,:-1]\n",
        "      y_train = train_data_temp[:,-1].reshape(-1,1)\n",
        "\n",
        "      x_val = val_data_temp[:,:-1]\n",
        "      y_val = val_data_temp[:,-1]\n",
        "\n",
        "      w = train_fnc(x_train, y_train, w, l1, l2, max_iter)\n",
        "      \n",
        "      mse = MSE(x_val, y_val, w)\n",
        "      mse_sub.append(mse)\n",
        "    mse_results.append(np.array(mse_sub).mean())"
      ],
      "metadata": {
        "id": "CE6ECYUnaFpR"
      },
      "execution_count": null,
      "outputs": []
    },
    {
      "cell_type": "code",
      "source": [
        "def mse_score_manage(mse_results, num_l1, num_l2):\n",
        "  mse_results = np.array(mse_results).reshape(num_l1, num_l2)\n",
        "  indices = np.where(mse_results == mse_results.min())\n",
        "  best_l1 = int(indices[0][0])\n",
        "  best_l2 = int(indices[1][0])\n",
        "  return {'l1': best_l1, 'l2': best_l2}\n",
        "\n",
        "best_results = mse_score_manage(mse_results, len(l1s), len(l2s))\n",
        "w = np.zeros((x_train.shape[1],1))\n",
        "\n",
        "best_w = train_fnc(features[:30], labels[:30], w, l1s[best_results['l1']], l2s[best_results['l2']], max_iter)\n",
        "\n",
        "eNet_mse = MSE(x_test, y_test, best_w)\n",
        "print(\"Best MSE score for Elastic-Net using the best l1 and l2 parameters :\", eNet_mse,\n",
        "      \"\\nBest l1 parameter was\", l1s[best_results['l1']], \"and best l2 parameter was\", l2s[best_results['l2']])"
      ],
      "metadata": {
        "id": "4F9KeU2nfsKe",
        "colab": {
          "base_uri": "https://localhost:8080/"
        },
        "outputId": "a27ce2e5-2c89-4e3b-ccdd-7d7a01af59fb"
      },
      "execution_count": null,
      "outputs": [
        {
          "output_type": "stream",
          "name": "stdout",
          "text": [
            "Best MSE score for Elastic-Net using the best l1 and l2 parameters : 1.724305430061938e+236 \n",
            "Best l1 parameter was 0.1 and best l2 parameter was 1e-05\n"
          ]
        }
      ]
    },
    {
      "cell_type": "markdown",
      "source": [
        "# **Ordinary Multi-Linear Regression**"
      ],
      "metadata": {
        "id": "f2wAlkLDi6MQ"
      }
    },
    {
      "cell_type": "code",
      "source": [
        "def ordinary_mult_lin_reg(A, b, x):\n",
        "  cost = 0.5 * np.linalg.norm(A.dot(x) - b, ord=2) ** 2\n",
        "  return cost\n",
        "\n",
        "def ordinary_mult_lin_reg_grad(A, b, x):\n",
        "  grad = A.T.dot(A.dot(x) - b)\n",
        "  return grad\n",
        "\n",
        "x_train = features[:30]\n",
        "y_train = labels[:30]\n",
        "w_new = np.zeros((x_train.shape[1],1))\n",
        "\n",
        "for _ in range(max_iter):\n",
        "  w_new -= learning_rate * ordinary_mult_lin_reg_grad(x_train, y_train, w_new)"
      ],
      "metadata": {
        "id": "9dw0aIWUhOyE"
      },
      "execution_count": null,
      "outputs": []
    },
    {
      "cell_type": "code",
      "source": [
        "ord_mse = MSE(x_test, y_test, w_new)\n",
        "print(\"MSE for ordinary multi-linear regression :\", ord_mse)"
      ],
      "metadata": {
        "id": "uoBGuN59ipAh",
        "colab": {
          "base_uri": "https://localhost:8080/"
        },
        "outputId": "550544d2-0223-4bc7-e24c-dd93643c8039"
      },
      "execution_count": null,
      "outputs": [
        {
          "output_type": "stream",
          "name": "stdout",
          "text": [
            "MSE for ordinary multi-linear regression : 1.724305430061938e+236\n"
          ]
        }
      ]
    }
  ]
}